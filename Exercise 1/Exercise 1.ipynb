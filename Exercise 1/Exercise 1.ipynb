{
 "cells": [
  {
   "cell_type": "markdown",
   "metadata": {},
   "source": [
    "# Import modules"
   ]
  },
  {
   "cell_type": "code",
   "execution_count": 76,
   "metadata": {},
   "outputs": [],
   "source": [
    "import pandas as pd\n",
    "import math"
   ]
  },
  {
   "cell_type": "markdown",
   "metadata": {},
   "source": [
    "# Part 1"
   ]
  },
  {
   "cell_type": "code",
   "execution_count": 41,
   "metadata": {},
   "outputs": [],
   "source": [
    "number = 7316717653133062491922511967442657474235534919493496983520312774506326239578318016984801869478851843858615607891129494954595017379583319528532088055111254069874715852386305071569329096329522744304355766896648950445244523161731856403098711121722383113622298934233803081353362766142828064444866452387493035890729629049156044077239071381051585930796086670172427121883998797908792274921901699720888093776657273330010533678812202354218097512545405947522435258490771167055601360483958644670632441572215539753697817977846174064955149290862569321978468622482839722413756570560574902614079729686524145351004748216637048440319989000889524345065854122758866688116427171479924442928230863465674813919123162824586178664583591245665294765456828489128831426076900422421902267105562632111110937054421750694165896040807198403850962455444362981230987879927244284909188845801561660979191338754992005240636899125607176060588611646710940507754100225698315520005593572972571636269561882670428252483600823257530420752963450"
   ]
  },
  {
   "cell_type": "code",
   "execution_count": 42,
   "metadata": {},
   "outputs": [],
   "source": [
    "list_of_digits = list(map(int, f\"{number}\"))"
   ]
  },
  {
   "cell_type": "markdown",
   "metadata": {},
   "source": [
    "# The index and the value of the four consecutive digits that have the highest value when you multiply them.\n"
   ]
  },
  {
   "cell_type": "code",
   "execution_count": 64,
   "metadata": {},
   "outputs": [],
   "source": [
    "index = list_of_digits[0]\n",
    "total = 0\n",
    "for i in range(len(list_of_digits)-3):\n",
    "    new_total = list_of_digits[i]*list_of_digits[i+1]*list_of_digits[i+2]*list_of_digits[i+3]\n",
    "    if (new_total>total):\n",
    "        index = list_of_digits[i]\n",
    "        total = new_total\n",
    "    "
   ]
  },
  {
   "cell_type": "code",
   "execution_count": 65,
   "metadata": {},
   "outputs": [
    {
     "name": "stdout",
     "output_type": "stream",
     "text": [
      "Index: 9 \n",
      "Value of the four consecutive digits that have the highest value when you multiply them: 5832\n"
     ]
    }
   ],
   "source": [
    "print (\"Index:\", index, \"\\nValue of the four consecutive digits that have the highest value when you multiply them:\", total)"
   ]
  },
  {
   "cell_type": "markdown",
   "metadata": {},
   "source": [
    "# The index and the value of the ten consecutive digits that have the highest value when you multiply them."
   ]
  },
  {
   "cell_type": "code",
   "execution_count": 66,
   "metadata": {},
   "outputs": [],
   "source": [
    "index = list_of_digits[0]\n",
    "total = 0\n",
    "for i in range(len(list_of_digits)-9):\n",
    "    new_total = list_of_digits[i]\n",
    "    for j in range(1,10):\n",
    "        new_total *= list_of_digits[i+j]\n",
    "    if (new_total>total):\n",
    "        index = list_of_digits[i]\n",
    "        total = new_total"
   ]
  },
  {
   "cell_type": "code",
   "execution_count": 67,
   "metadata": {},
   "outputs": [
    {
     "name": "stdout",
     "output_type": "stream",
     "text": [
      "Index: 8 \n",
      "Value of the ten consecutive digits that have the highest value when you multiply them: 493807104\n"
     ]
    }
   ],
   "source": [
    "print (\"Index:\", index, \"\\nValue of the ten consecutive digits that have the highest value when you multiply them:\", total)"
   ]
  },
  {
   "cell_type": "markdown",
   "metadata": {},
   "source": [
    "# Part 2"
   ]
  },
  {
   "cell_type": "code",
   "execution_count": 172,
   "metadata": {},
   "outputs": [],
   "source": [
    "data = pd.read_csv(\"TNF_coordinate_chain1.pdb\", sep=\"\\t\")"
   ]
  },
  {
   "cell_type": "code",
   "execution_count": 173,
   "metadata": {},
   "outputs": [],
   "source": [
    "data1 = pd.read_csv(\"TNF_a1_coordinate_chain1.pdb\", sep=\"\\t\")\n",
    "data2 = pd.read_csv(\"TNF_b1_coordinate_chain1.pdb\", sep=\"\\t\")\n",
    "data3 = pd.read_csv(\"TNF_c1_coordinate_chain1.pdb\", sep=\"\\t\")"
   ]
  },
  {
   "cell_type": "code",
   "execution_count": 174,
   "metadata": {},
   "outputs": [],
   "source": [
    "var1ds = []\n",
    "var2ds = []\n",
    "var3ds = []"
   ]
  },
  {
   "cell_type": "code",
   "execution_count": 175,
   "metadata": {},
   "outputs": [],
   "source": [
    "for i in range (len(data)):\n",
    "    if (data.Atom[i] == 'CA'):\n",
    "        d1 = math.sqrt((data.X[i]-data1.X[i])**2+(data.Y[i]-data1.Y[i])**2+(data.Z[i]-data1.Z[i])**2)\n",
    "        var1ds.append(d1)\n",
    "        d2 = math.sqrt((data.X[i]-data2.X[i])**2+(data.Y[i]-data2.Y[i])**2+(data.Z[i]-data2.Z[i])**2)\n",
    "        var2ds.append(d2)\n",
    "        d3 = math.sqrt((data.X[i]-data3.X[i])**2+(data.Y[i]-data3.Y[i])**2+(data.Z[i]-data3.Z[i])**2)\n",
    "        var3ds.append(d3)"
   ]
  },
  {
   "cell_type": "code",
   "execution_count": 176,
   "metadata": {},
   "outputs": [],
   "source": [
    "sum1 = 0\n",
    "sum2 = 0\n",
    "sum3 = 0\n",
    "for i in range (len(data[data.Atom == 'CA'])):\n",
    "    sum1 += var1ds[i]\n",
    "    sum2 += var2ds[i]\n",
    "    sum3 += var3ds[i]\n",
    "avg1 = sum1 / (len(data[data.Atom == 'CA']))\n",
    "avg2 = sum2 / (len(data[data.Atom == 'CA']))\n",
    "avg3 = sum3 / (len(data[data.Atom == 'CA']))"
   ]
  },
  {
   "cell_type": "code",
   "execution_count": 177,
   "metadata": {},
   "outputs": [
    {
     "name": "stdout",
     "output_type": "stream",
     "text": [
      "The average distance between the backbone atoms of the wild-type and the different variants:\n",
      "The average distance between the wild type and the variant A is : 1.3601353369785016\n",
      "The average distance between the wild type and the variant B is : 5.07980513925951\n",
      "The average distance between the wild type and the variant C is : 7.823856713143505\n"
     ]
    }
   ],
   "source": [
    "print (\"The average distance between the backbone atoms of the wild-type and the different variants:\")\n",
    "print (\"The average distance between the wild type and the variant A is :\", avg1)\n",
    "print (\"The average distance between the wild type and the variant B is :\", avg2)\n",
    "print (\"The average distance between the wild type and the variant C is :\", avg3)"
   ]
  },
  {
   "cell_type": "code",
   "execution_count": 178,
   "metadata": {},
   "outputs": [],
   "source": [
    "min1 = 1000\n",
    "min2 = 1000\n",
    "min3 = 1000\n",
    "for i in range (len(data[data.Atom == 'CA'])):\n",
    "    if (var1ds[i] != 0 ):\n",
    "        if (var1ds[i] < min1):\n",
    "            min1 = var1ds[i]\n",
    "    if (var2ds[i] != 0 ):\n",
    "        if (var2ds[i] < min2):\n",
    "            min2 = var2ds[i]\n",
    "    if (var3ds[i] != 0 ):\n",
    "        if (var3ds[i] < min3):\n",
    "            min3 = var3ds[i]\n"
   ]
  },
  {
   "cell_type": "code",
   "execution_count": 179,
   "metadata": {},
   "outputs": [
    {
     "name": "stdout",
     "output_type": "stream",
     "text": [
      "The lowest RMSD value of each variant is:\n",
      "Variant A : 0.045000000000001705\n",
      "Variant B : 0.3119999999999976\n",
      "Variant C : 0.1528201557386949\n"
     ]
    }
   ],
   "source": [
    "print (\"The lowest RMSD value of each variant is:\")\n",
    "print (\"Variant A :\", min1)\n",
    "print (\"Variant B :\", min2)\n",
    "print (\"Variant C :\", min3)"
   ]
  },
  {
   "cell_type": "code",
   "execution_count": 180,
   "metadata": {},
   "outputs": [],
   "source": [
    "lrmsd = min1\n",
    "lrmsdvar = \"A\"\n",
    "if (min2 < lrmsd):\n",
    "    lrmsd = min2\n",
    "    lrmsdvar = \"B\"\n",
    "if (min3 < lrmsd):\n",
    "    lrmsd = min3\n",
    "    lrmsdvar = \"C\""
   ]
  },
  {
   "cell_type": "code",
   "execution_count": 182,
   "metadata": {},
   "outputs": [
    {
     "name": "stdout",
     "output_type": "stream",
     "text": [
      "The variant with the lowest RMSD value is the variant A at a value of 0.045000000000001705\n"
     ]
    }
   ],
   "source": [
    "print (\"The variant with the lowest RMSD value is the variant\", lrmsdvar, \"at a value of\", lrmsd)"
   ]
  },
  {
   "cell_type": "markdown",
   "metadata": {},
   "source": [
    "# Part 3"
   ]
  },
  {
   "cell_type": "code",
   "execution_count": 196,
   "metadata": {},
   "outputs": [],
   "source": [
    "catalog = pd.read_csv(\"http://139.91.190.186/tei/bioinformatics/exercise1/gwas_catalog.txt\", sep=\"\\t\", low_memory=False)"
   ]
  },
  {
   "cell_type": "markdown",
   "metadata": {},
   "source": [
    "# Five SNPs with p-value = 0"
   ]
  },
  {
   "cell_type": "code",
   "execution_count": 253,
   "metadata": {},
   "outputs": [
    {
     "data": {
      "text/html": [
       "<div>\n",
       "<style scoped>\n",
       "    .dataframe tbody tr th:only-of-type {\n",
       "        vertical-align: middle;\n",
       "    }\n",
       "\n",
       "    .dataframe tbody tr th {\n",
       "        vertical-align: top;\n",
       "    }\n",
       "\n",
       "    .dataframe thead th {\n",
       "        text-align: right;\n",
       "    }\n",
       "</style>\n",
       "<table border=\"1\" class=\"dataframe\">\n",
       "  <thead>\n",
       "    <tr style=\"text-align: right;\">\n",
       "      <th></th>\n",
       "      <th>SNPS</th>\n",
       "      <th>PVALUE</th>\n",
       "    </tr>\n",
       "  </thead>\n",
       "  <tbody>\n",
       "    <tr>\n",
       "      <th>683</th>\n",
       "      <td>rs429358</td>\n",
       "      <td>0.0</td>\n",
       "    </tr>\n",
       "    <tr>\n",
       "      <th>1410</th>\n",
       "      <td>rs4539246</td>\n",
       "      <td>0.0</td>\n",
       "    </tr>\n",
       "    <tr>\n",
       "      <th>1413</th>\n",
       "      <td>rs10736092</td>\n",
       "      <td>0.0</td>\n",
       "    </tr>\n",
       "    <tr>\n",
       "      <th>1423</th>\n",
       "      <td>rs7914286</td>\n",
       "      <td>0.0</td>\n",
       "    </tr>\n",
       "    <tr>\n",
       "      <th>1425</th>\n",
       "      <td>rs2861152</td>\n",
       "      <td>0.0</td>\n",
       "    </tr>\n",
       "  </tbody>\n",
       "</table>\n",
       "</div>"
      ],
      "text/plain": [
       "            SNPS  PVALUE\n",
       "683     rs429358     0.0\n",
       "1410   rs4539246     0.0\n",
       "1413  rs10736092     0.0\n",
       "1423   rs7914286     0.0\n",
       "1425   rs2861152     0.0"
      ]
     },
     "execution_count": 253,
     "metadata": {},
     "output_type": "execute_result"
    }
   ],
   "source": [
    "catalog['PVALUE'] = catalog['P-VALUE']\n",
    "zero_p_value = catalog[catalog.PVALUE == 0]\n",
    "zero_p_value.loc[:, ['SNPS', 'PVALUE']].head()"
   ]
  },
  {
   "cell_type": "markdown",
   "metadata": {},
   "source": [
    "# The first five authors with the most SNP records"
   ]
  },
  {
   "cell_type": "code",
   "execution_count": 260,
   "metadata": {},
   "outputs": [
    {
     "data": {
      "text/html": [
       "<div>\n",
       "<style scoped>\n",
       "    .dataframe tbody tr th:only-of-type {\n",
       "        vertical-align: middle;\n",
       "    }\n",
       "\n",
       "    .dataframe tbody tr th {\n",
       "        vertical-align: top;\n",
       "    }\n",
       "\n",
       "    .dataframe thead th {\n",
       "        text-align: right;\n",
       "    }\n",
       "</style>\n",
       "<table border=\"1\" class=\"dataframe\">\n",
       "  <thead>\n",
       "    <tr style=\"text-align: right;\">\n",
       "      <th></th>\n",
       "      <th>SNPS</th>\n",
       "    </tr>\n",
       "    <tr>\n",
       "      <th>FIRST AUTHOR</th>\n",
       "      <th></th>\n",
       "    </tr>\n",
       "  </thead>\n",
       "  <tbody>\n",
       "    <tr>\n",
       "      <th>Harshfield EL</th>\n",
       "      <td>13087</td>\n",
       "    </tr>\n",
       "    <tr>\n",
       "      <th>Gudjonsson A</th>\n",
       "      <td>3931</td>\n",
       "    </tr>\n",
       "    <tr>\n",
       "      <th>Orru V</th>\n",
       "      <td>1446</td>\n",
       "    </tr>\n",
       "    <tr>\n",
       "      <th>Backman JD</th>\n",
       "      <td>587</td>\n",
       "    </tr>\n",
       "    <tr>\n",
       "      <th>Qin Y</th>\n",
       "      <td>567</td>\n",
       "    </tr>\n",
       "  </tbody>\n",
       "</table>\n",
       "</div>"
      ],
      "text/plain": [
       "                SNPS\n",
       "FIRST AUTHOR        \n",
       "Harshfield EL  13087\n",
       "Gudjonsson A    3931\n",
       "Orru V          1446\n",
       "Backman JD       587\n",
       "Qin Y            567"
      ]
     },
     "execution_count": 260,
     "metadata": {},
     "output_type": "execute_result"
    }
   ],
   "source": [
    "catalog.groupby(['FIRST AUTHOR']).count().loc[:, ['SNPS']].sort_values(by='SNPS',ascending=False).head()"
   ]
  },
  {
   "cell_type": "markdown",
   "metadata": {},
   "source": [
    "# The first two genes with the most SNP records"
   ]
  },
  {
   "cell_type": "code",
   "execution_count": 261,
   "metadata": {},
   "outputs": [
    {
     "data": {
      "text/html": [
       "<div>\n",
       "<style scoped>\n",
       "    .dataframe tbody tr th:only-of-type {\n",
       "        vertical-align: middle;\n",
       "    }\n",
       "\n",
       "    .dataframe tbody tr th {\n",
       "        vertical-align: top;\n",
       "    }\n",
       "\n",
       "    .dataframe thead th {\n",
       "        text-align: right;\n",
       "    }\n",
       "</style>\n",
       "<table border=\"1\" class=\"dataframe\">\n",
       "  <thead>\n",
       "    <tr style=\"text-align: right;\">\n",
       "      <th></th>\n",
       "      <th>SNPS</th>\n",
       "    </tr>\n",
       "    <tr>\n",
       "      <th>MAPPED_GENE</th>\n",
       "      <th></th>\n",
       "    </tr>\n",
       "  </thead>\n",
       "  <tbody>\n",
       "    <tr>\n",
       "      <th>FADS2</th>\n",
       "      <td>2225</td>\n",
       "    </tr>\n",
       "    <tr>\n",
       "      <th>FADS1, FADS2</th>\n",
       "      <td>1446</td>\n",
       "    </tr>\n",
       "  </tbody>\n",
       "</table>\n",
       "</div>"
      ],
      "text/plain": [
       "              SNPS\n",
       "MAPPED_GENE       \n",
       "FADS2         2225\n",
       "FADS1, FADS2  1446"
      ]
     },
     "execution_count": 261,
     "metadata": {},
     "output_type": "execute_result"
    }
   ],
   "source": [
    "catalog.groupby(['MAPPED_GENE']).count().loc[:, ['SNPS']].sort_values(by='SNPS',ascending=False).head(2)"
   ]
  },
  {
   "cell_type": "markdown",
   "metadata": {},
   "source": [
    "# The chromosome with the most SNPS for Neuroblastoma"
   ]
  },
  {
   "cell_type": "code",
   "execution_count": 286,
   "metadata": {},
   "outputs": [
    {
     "data": {
      "text/html": [
       "<div>\n",
       "<style scoped>\n",
       "    .dataframe tbody tr th:only-of-type {\n",
       "        vertical-align: middle;\n",
       "    }\n",
       "\n",
       "    .dataframe tbody tr th {\n",
       "        vertical-align: top;\n",
       "    }\n",
       "\n",
       "    .dataframe thead th {\n",
       "        text-align: right;\n",
       "    }\n",
       "</style>\n",
       "<table border=\"1\" class=\"dataframe\">\n",
       "  <thead>\n",
       "    <tr style=\"text-align: right;\">\n",
       "      <th></th>\n",
       "      <th>SNPS</th>\n",
       "    </tr>\n",
       "    <tr>\n",
       "      <th>CHR_ID</th>\n",
       "      <th></th>\n",
       "    </tr>\n",
       "  </thead>\n",
       "  <tbody>\n",
       "    <tr>\n",
       "      <th>2</th>\n",
       "      <td>10</td>\n",
       "    </tr>\n",
       "  </tbody>\n",
       "</table>\n",
       "</div>"
      ],
      "text/plain": [
       "        SNPS\n",
       "CHR_ID      \n",
       "2         10"
      ]
     },
     "execution_count": 286,
     "metadata": {},
     "output_type": "execute_result"
    }
   ],
   "source": [
    "catalog['DISEASE_TRAIT'] = catalog['DISEASE/TRAIT']\n",
    "new_catalog = catalog[catalog.DISEASE_TRAIT == 'Neuroblastoma']\n",
    "new_catalog.groupby(['CHR_ID']).count().loc[:, ['SNPS']].sort_values(by='SNPS',ascending=False).head(1)"
   ]
  },
  {
   "cell_type": "code",
   "execution_count": null,
   "metadata": {},
   "outputs": [],
   "source": []
  }
 ],
 "metadata": {
  "kernelspec": {
   "display_name": "Python 3",
   "language": "python",
   "name": "python3"
  },
  "language_info": {
   "codemirror_mode": {
    "name": "ipython",
    "version": 3
   },
   "file_extension": ".py",
   "mimetype": "text/x-python",
   "name": "python",
   "nbconvert_exporter": "python",
   "pygments_lexer": "ipython3",
   "version": "3.6.4"
  }
 },
 "nbformat": 4,
 "nbformat_minor": 2
}
